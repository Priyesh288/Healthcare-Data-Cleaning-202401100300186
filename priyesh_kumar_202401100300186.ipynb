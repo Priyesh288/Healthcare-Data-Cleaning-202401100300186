{
  "nbformat": 4,
  "nbformat_minor": 0,
  "metadata": {
    "colab": {
      "provenance": []
    },
    "kernelspec": {
      "name": "python3",
      "display_name": "Python 3"
    },
    "language_info": {
      "name": "python"
    }
  },
  "cells": [
    {
      "cell_type": "code",
      "source": [
        "import pandas as pd\n",
        "\n",
        "# Load the dataset\n",
        "file_path = '/content/healthcare_data.csv'\n",
        "df = pd.read_csv(file_path)\n",
        "\n",
        "# Display basic information about the dataset\n",
        "print(\"Initial Data Overview:\")\n",
        "print(df.info())\n",
        "print(\"\\nFirst 5 rows:\")\n",
        "print(df.head())\n",
        "\n",
        "# Data Cleaning Steps\n",
        "# 1. Handling Missing Values\n",
        "df.fillna(method='ffill', inplace=True)  # Forward fill for continuous data\n",
        "\n",
        "# 2. Removing Duplicates\n",
        "df.drop_duplicates(inplace=True)\n",
        "\n",
        "# 3. Standardizing Column Names\n",
        "df.columns = df.columns.str.strip().str.lower().str.replace(' ', '_')\n",
        "\n",
        "# 4. Converting Data Types (example for date columns)\n",
        "if 'date_of_birth' in df.columns:\n",
        "    df['date_of_birth'] = pd.to_datetime(df['date_of_birth'], errors='coerce')\n",
        "\n",
        "# 5. Removing Outliers (example for age column)\n",
        "if 'age' in df.columns:\n",
        "    df = df[(df['age'] >= 0) & (df['age'] <= 120)]\n",
        "\n",
        "# 6. Encoding Categorical Variables (example for gender)\n",
        "if 'gender' in df.columns:\n",
        "    df['gender'] = df['gender'].map({'Male': 1, 'Female': 0}).fillna(-1)\n",
        "\n",
        "# Display cleaned data overview\n",
        "print(\"\\nCleaned Data Overview:\")\n",
        "print(df.info())\n",
        "print(\"\\nFirst 5 cleaned rows:\")\n",
        "print(df.head())\n",
        "\n",
        "# Save the cleaned dataset\n",
        "cleaned_file_path = '/content/healthcare_data.csv'\n",
        "df.to_csv(cleaned_file_path, index=False)\n",
        "print(f\"Cleaned data saved to {cleaned_file_path}\")\n"
      ],
      "metadata": {
        "colab": {
          "base_uri": "https://localhost:8080/"
        },
        "id": "YSV54zDIhTOc",
        "outputId": "337c489d-2592-438b-8cd5-a71c921703a8"
      },
      "execution_count": 4,
      "outputs": [
        {
          "output_type": "stream",
          "name": "stdout",
          "text": [
            "Initial Data Overview:\n",
            "<class 'pandas.core.frame.DataFrame'>\n",
            "RangeIndex: 20 entries, 0 to 19\n",
            "Data columns (total 5 columns):\n",
            " #   Column         Non-Null Count  Dtype  \n",
            "---  ------         --------------  -----  \n",
            " 0   PatientID      20 non-null     int64  \n",
            " 1   Age            20 non-null     int64  \n",
            " 2   BloodPressure  20 non-null     int64  \n",
            " 3   SugarLevel     20 non-null     float64\n",
            " 4   Weight         20 non-null     float64\n",
            "dtypes: float64(2), int64(3)\n",
            "memory usage: 932.0 bytes\n",
            "None\n",
            "\n",
            "First 5 rows:\n",
            "   PatientID  Age  BloodPressure  SugarLevel      Weight\n",
            "0          1   44            118   87.892495  105.568034\n",
            "1          2   39            109  177.321803  105.703426\n",
            "2          3   49            149  144.148273   77.787070\n",
            "3          4   58            121   90.355404  115.244784\n",
            "4          5   35            109  126.421800   70.383790\n",
            "\n",
            "Cleaned Data Overview:\n",
            "<class 'pandas.core.frame.DataFrame'>\n",
            "RangeIndex: 20 entries, 0 to 19\n",
            "Data columns (total 5 columns):\n",
            " #   Column         Non-Null Count  Dtype  \n",
            "---  ------         --------------  -----  \n",
            " 0   patientid      20 non-null     int64  \n",
            " 1   age            20 non-null     int64  \n",
            " 2   bloodpressure  20 non-null     int64  \n",
            " 3   sugarlevel     20 non-null     float64\n",
            " 4   weight         20 non-null     float64\n",
            "dtypes: float64(2), int64(3)\n",
            "memory usage: 932.0 bytes\n",
            "None\n",
            "\n",
            "First 5 cleaned rows:\n",
            "   patientid  age  bloodpressure  sugarlevel      weight\n",
            "0          1   44            118   87.892495  105.568034\n",
            "1          2   39            109  177.321803  105.703426\n",
            "2          3   49            149  144.148273   77.787070\n",
            "3          4   58            121   90.355404  115.244784\n",
            "4          5   35            109  126.421800   70.383790\n",
            "Cleaned data saved to /content/healthcare_data.csv\n"
          ]
        },
        {
          "output_type": "stream",
          "name": "stderr",
          "text": [
            "<ipython-input-4-4510d50411a8>:15: FutureWarning: DataFrame.fillna with 'method' is deprecated and will raise in a future version. Use obj.ffill() or obj.bfill() instead.\n",
            "  df.fillna(method='ffill', inplace=True)  # Forward fill for continuous data\n"
          ]
        }
      ]
    }
  ]
}